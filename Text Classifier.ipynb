{
 "cells": [
  {
   "cell_type": "code",
   "execution_count": 1,
   "metadata": {},
   "outputs": [
    {
     "name": "stdout",
     "output_type": "stream",
     "text": [
      "[nltk_data] Downloading package stopwords to\n",
      "[nltk_data]     C:\\Users\\Rohan\\AppData\\Roaming\\nltk_data...\n",
      "[nltk_data]   Package stopwords is already up-to-date!\n"
     ]
    },
    {
     "data": {
      "text/plain": [
       "True"
      ]
     },
     "execution_count": 1,
     "metadata": {},
     "output_type": "execute_result"
    }
   ],
   "source": [
    "import numpy as np\n",
    "import re\n",
    "import pickle\n",
    "import nltk\n",
    "from nltk.corpus import stopwords\n",
    "from sklearn.datasets import load_files\n",
    "nltk.download('stopwords')"
   ]
  },
  {
   "cell_type": "code",
   "execution_count": 2,
   "metadata": {},
   "outputs": [],
   "source": [
    "# txt_sentoken/ will loop through the sub directories and assign classes 0 and 1\n",
    "reviews = load_files('txt_sentoken/')"
   ]
  },
  {
   "cell_type": "code",
   "execution_count": 3,
   "metadata": {},
   "outputs": [],
   "source": [
    "# X will contain the data whereas y will contain the corresponding label\n",
    "X, y = reviews.data, reviews.target"
   ]
  },
  {
   "cell_type": "code",
   "execution_count": 4,
   "metadata": {},
   "outputs": [],
   "source": [
    "# persisting the data\n",
    "# storing X and y as pickle file (for loading faster in case of large files)\n",
    "with open('X.pickle', 'wb') as f:\n",
    "    pickle.dump(X,f)\n",
    "\n",
    "with open('y.pickle', 'wb') as f:\n",
    "    pickle.dump(y,f)   "
   ]
  },
  {
   "cell_type": "code",
   "execution_count": 5,
   "metadata": {},
   "outputs": [],
   "source": [
    "# Unpickling the dataset\n",
    "with open('X.pickle', 'rb') as f:\n",
    "    X = pickle.load(f)\n",
    "\n",
    "with open('y.pickle', 'rb') as f:\n",
    "    y = pickle.load(f)\n"
   ]
  },
  {
   "cell_type": "code",
   "execution_count": 6,
   "metadata": {},
   "outputs": [],
   "source": [
    "# preprocessing the data\n",
    "corpus = []\n",
    "for i in range(len(X)):\n",
    "    review = re.sub(r'\\W',' ',str(X[i])) # substituting all the non-letter characters like punctuations, ascii with a space\n",
    "    review = review.lower()\n",
    "    review = re.sub(r'\\s+[a-z]\\s+',' ',review) # substituting all the single character words with space as they are not so importan, genrellay they are preceded and succeded by a space\n",
    "    review = re.sub(r'^[a-z]\\s+',' ',review) # also substituting sinle character words from the start of the sentence\n",
    "    review = re.sub(r'\\s+',' ',review) # substituting the extra spaces generated with a single space\n",
    "    corpus.append(review)"
   ]
  },
  {
   "cell_type": "code",
   "execution_count": 7,
   "metadata": {},
   "outputs": [],
   "source": [
    "# creating the bag of words model\n",
    "from sklearn.feature_extraction.text import CountVectorizer\n",
    "vectorizer = CountVectorizer(max_features = 2000, min_df = 3, max_df = 0.6, stop_words = stopwords.words('english'))\n",
    "# max_fratures: 2000 most frequent words as feature\n",
    "# min_df: exclude all those words which appear in three or less than three documents\n",
    "# max_df: (specified in percentage) exclude all those words which appears in more than 60% of the document\n",
    "# stop_words: exclude all the stop words in the document\n",
    "\n",
    "X = vectorizer.fit_transform(corpus).toarray()"
   ]
  },
  {
   "cell_type": "code",
   "execution_count": 8,
   "metadata": {},
   "outputs": [],
   "source": [
    "# transforming the bag of words model to tf-idf model\n",
    "from sklearn.feature_extraction.text import TfidfTransformer\n",
    "transformer = TfidfTransformer()\n",
    "X = transformer.fit_transform(X).toarray()"
   ]
  },
  {
   "cell_type": "code",
   "execution_count": 9,
   "metadata": {},
   "outputs": [],
   "source": [
    "# splitting the data into train and test set\n",
    "from sklearn.model_selection import train_test_split\n",
    "text_train, text_test, sent_train, sent_test = train_test_split(X, y, test_size = 0.2, random_state = 0)"
   ]
  },
  {
   "cell_type": "code",
   "execution_count": 10,
   "metadata": {},
   "outputs": [
    {
     "data": {
      "text/plain": [
       "LogisticRegression(C=1.0, class_weight=None, dual=False, fit_intercept=True,\n",
       "          intercept_scaling=1, max_iter=100, multi_class='ovr', n_jobs=1,\n",
       "          penalty='l2', random_state=None, solver='liblinear', tol=0.0001,\n",
       "          verbose=0, warm_start=False)"
      ]
     },
     "execution_count": 10,
     "metadata": {},
     "output_type": "execute_result"
    }
   ],
   "source": [
    "# building our logistic regression classifier amd training the train-dataset\n",
    "from sklearn.linear_model import LogisticRegression\n",
    "clf = LogisticRegression()\n",
    "clf.fit(text_train, sent_train)"
   ]
  },
  {
   "cell_type": "code",
   "execution_count": 11,
   "metadata": {},
   "outputs": [
    {
     "name": "stdout",
     "output_type": "stream",
     "text": [
      "accuracy: 0.8475\n"
     ]
    }
   ],
   "source": [
    "# predicting and finding the accuracy score\n",
    "from sklearn.metrics import accuracy_score\n",
    "pred = clf.predict(text_test)\n",
    "accuracy = accuracy_score(sent_test, pred)\n",
    "print(\"accuracy:\", accuracy)"
   ]
  }
 ],
 "metadata": {
  "kernelspec": {
   "display_name": "Python 3",
   "language": "python",
   "name": "python3"
  },
  "language_info": {
   "codemirror_mode": {
    "name": "ipython",
    "version": 3
   },
   "file_extension": ".py",
   "mimetype": "text/x-python",
   "name": "python",
   "nbconvert_exporter": "python",
   "pygments_lexer": "ipython3",
   "version": "3.6.5"
  }
 },
 "nbformat": 4,
 "nbformat_minor": 2
}
